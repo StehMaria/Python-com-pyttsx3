{
 "cells": [
  {
   "cell_type": "code",
   "execution_count": 1,
   "id": "6d432908",
   "metadata": {},
   "outputs": [
    {
     "name": "stderr",
     "output_type": "stream",
     "text": [
      "ERROR: Invalid requirement: '##'\n"
     ]
    }
   ],
   "source": [
    "!pip install pyttsx3 ## ao rodar essa célula por primeiro a biblioteca utilizada faz download sem precisar do cmd Anaconda!!!"
   ]
  },
  {
   "cell_type": "code",
   "execution_count": 22,
   "id": "bb50b682",
   "metadata": {},
   "outputs": [
    {
     "name": "stdout",
     "output_type": "stream",
     "text": [
      "Digite um valor mínimo: 0,10\n",
      "Digite um valor máximo: 10000\n",
      "Digite o valor em reais: 2345,67\n",
      "Valor Correto!\n"
     ]
    }
   ],
   "source": [
    "\n",
    "\n",
    "def validar_valores():\n",
    "    ## função que valida os valores de entrada\n",
    "\n",
    "    while True:\n",
    "        #valor_min = input(\"Digite um valor mínimo: \")\n",
    "        #valor_max = input(\"Digite um valor máximo: \")\n",
    "        #valor_min,valor_max = valor_min.replace(',', '.'),valor_max.replace(',', '.')\n",
    "        #valor_min,valor_max = float(valor_min),float(valor_max)\n",
    "        valor = (input(\"Digite o valor em reais: \"))\n",
    "        valor = valor.replace(',', '.')\n",
    "        valor = float(valor)\n",
    "        #if (valor >= float(valor_min) and valor <= float(valor_max)):\n",
    "            #print(\"Valor Correto!\")\n",
    "            #break\n",
    "        if (valor >= 0.01 and valor <= 999.99):\n",
    "            print(\"Valor digitado correto. Valores de 0,01 até 999,99\")\n",
    "            break\n",
    "            \n",
    "        \n",
    "    return valor\n",
    "\n",
    "def conversoes(valor):\n",
    "    ## função que faz a conversão necessária para que os valores sejam lidos da forma correta\n",
    "    valor = \"%.2f\" % (valor)\n",
    "    \n",
    "    reais,centavos = str(valor).split(\".\")\n",
    "    \n",
    "    nome_real = \"\"\n",
    "    nome_centavo = \"\"\n",
    "\n",
    "    if int(reais) > 1 and int(centavos[0]) == 0 and int(centavos[1]) != 1 and int(centavos[1]) != 0: #12,02\n",
    "        centavos = centavos.replace(centavos[0],\"\")\n",
    "        nome_real = \"reais e\"\n",
    "        nome_centavo = \"centavos\"\n",
    "    elif int(reais) > 1 and int(centavos[0]) == 0 and int(centavos[1]) == 1: #12,01\n",
    "        centavos = centavos.replace(centavos[0],\"\")\n",
    "        nome_real = \"reais e\"\n",
    "        nome_centavo = \"centavo\"\n",
    "    elif int(reais) > 1 and int(centavos[0]) == 0 and int(centavos[1]) == 0: #12,00\n",
    "        centavos = centavos.replace(centavos[0],\"\")\n",
    "        nome_real = \"reais\"\n",
    "        nome_centavo = \"\"\n",
    "        print(centavos)\n",
    "    elif int(reais) == 1 and int(centavos[0]) == 0 and int(centavos[1]) == 0: #1,00\n",
    "        centavos = centavos.replace(centavos[0],\"\")\n",
    "        nome_real = \"real\"\n",
    "        centavos = \"\"\n",
    "    elif int(reais) == 1 and int(centavos[1]) == 1:  #1,01\n",
    "        centavos = centavos.replace(centavos[0],\"\")\n",
    "        nome_real = \"real e\"\n",
    "        nome_centavo = \"centavo\"\n",
    "    elif int(reais) == 1 and int(centavos[0]) > 1: #1,30\n",
    "        nome_real = \"real e\"\n",
    "        nome_centavo = \"centavos\"\n",
    "    elif int(reais) > 100 :\n",
    "        nome_real = \"reais e\"\n",
    "        nome_centavo = \"centavos\"\n",
    "    elif int(reais) > 100 and int(centavos[0]) == 0 and int(centavos[1]) == 0:\n",
    "        centavos = centavos.replace(centavos[0],\"\")\n",
    "        nome_real = \"reais\"\n",
    "        nome_centavo = \"\"\n",
    "    elif int(reais) > 1 and int(centavos[0]) > 1: #12,30\n",
    "        nome_real = \"reais e\"\n",
    "        nome_centavo = \"centavos\"\n",
    "    elif int(reais) == 0 and int(centavos[0]) >= 1: #0,30\n",
    "        reais = reais.replace(reais,\"\")\n",
    "        nome_centavo = \"centavos\"\n",
    "    elif int(reais) == 0 and int(centavos[0]) == 0 and int(centavos[1]) == 1: #0,01\n",
    "        reais = reais.replace(reais,\"\")\n",
    "        centavos = centavos.replace(centavos[0],\"\")\n",
    "        nome_centavo = \"centavo\"\n",
    "\n",
    "    \n",
    "    \n",
    "    \n",
    "        \n",
    "        \n",
    "    return reais,centavos,nome_real,nome_centavo,centavos\n",
    "\n",
    "import pyttsx3  \n",
    "  \n",
    "\n",
    "# utilização de biblioteca para transformar texto em fala, funciona offline\n",
    "s = pyttsx3.init()  \n",
    "\n",
    "valor = validar_valores()\n",
    "reais,centavos,nome_real,nome_centavo,centavos = conversoes(valor)\n",
    "\n",
    "    \n",
    "reais = str(reais)\n",
    "centavos = str(centavos)\n",
    "s.say(reais)\n",
    "s.say(nome_real)\n",
    "s.say(centavos)\n",
    "s.say(nome_centavo)\n",
    "s.runAndWait() "
   ]
  },
  {
   "cell_type": "code",
   "execution_count": null,
   "id": "c98049c7",
   "metadata": {},
   "outputs": [],
   "source": []
  }
 ],
 "metadata": {
  "kernelspec": {
   "display_name": "Python 3 (ipykernel)",
   "language": "python",
   "name": "python3"
  },
  "language_info": {
   "codemirror_mode": {
    "name": "ipython",
    "version": 3
   },
   "file_extension": ".py",
   "mimetype": "text/x-python",
   "name": "python",
   "nbconvert_exporter": "python",
   "pygments_lexer": "ipython3",
   "version": "3.9.7"
  }
 },
 "nbformat": 4,
 "nbformat_minor": 5
}
